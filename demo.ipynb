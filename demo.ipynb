import numpy as np
from manipulate_latents import manipulate

latent = np.random.randn(512)
direction = np.random.randn(512)
new_latent = manipulate(latent, direction, intensity=3.0)
print('Original:', latent[:5])
print('Manipulated:', new_latent[:5])
