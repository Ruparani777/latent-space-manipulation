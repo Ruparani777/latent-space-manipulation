{
 "cells": [
  {
   "cell_type": "code",
   "execution_count": null,
   "metadata": {},
   "outputs": [],
   "source": [
    "import numpy as np\n",
    "from manipulate_latents import manipulate\n",
    "\n",
    "# Simulated latent vector and direction\n",
    "latent = np.random.randn(512)\n",
    "direction = np.random.randn(512)\n",
    "\n",
    "manipulated_latent = manipulate(latent, direction, intensity=3.0)\n",
    "print('Original:', latent[:5])\n",
    "print('Manipulated:', manipulated_latent[:5])"
   ]
  }
 ],
 "metadata": {
  "kernelspec": {
   "display_name": "Python 3",
   "language": "python",
   "name": "python3"
  },
  "language_info": {
   "name": "python",
   "version": "3.9"
  }
 },
 "nbformat": 4,
 "nbformat_minor": 5
}
